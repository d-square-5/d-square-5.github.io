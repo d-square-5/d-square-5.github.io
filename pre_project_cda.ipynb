{
 "cells": [
  {
   "cell_type": "code",
   "execution_count": 192,
   "metadata": {},
   "outputs": [],
   "source": [
    "import pandas as pd\n",
    "import statistics\n",
    "import math  \n",
    "import matplotlib.pyplot as plt \n",
    "df=pd.read_csv(\"responces.csv\",index_col=0)"
   ]
  },
  {
   "cell_type": "code",
   "execution_count": 193,
   "metadata": {},
   "outputs": [
    {
     "data": {
      "text/html": [
       "<div>\n",
       "<style scoped>\n",
       "    .dataframe tbody tr th:only-of-type {\n",
       "        vertical-align: middle;\n",
       "    }\n",
       "\n",
       "    .dataframe tbody tr th {\n",
       "        vertical-align: top;\n",
       "    }\n",
       "\n",
       "    .dataframe thead th {\n",
       "        text-align: right;\n",
       "    }\n",
       "</style>\n",
       "<table border=\"1\" class=\"dataframe\">\n",
       "  <thead>\n",
       "    <tr style=\"text-align: right;\">\n",
       "      <th></th>\n",
       "      <th>Name</th>\n",
       "      <th>You lives in</th>\n",
       "      <th>State</th>\n",
       "      <th>Age</th>\n",
       "      <th>pad_or_else</th>\n",
       "      <th>type_of_pad</th>\n",
       "      <th>way_of_disposal</th>\n",
       "      <th>dustbin_dispose</th>\n",
       "      <th>pads_per_day</th>\n",
       "      <th>is_menstrual_cycle_regular</th>\n",
       "      <th>period_days</th>\n",
       "      <th>days_between_period</th>\n",
       "    </tr>\n",
       "    <tr>\n",
       "      <th>Index</th>\n",
       "      <th></th>\n",
       "      <th></th>\n",
       "      <th></th>\n",
       "      <th></th>\n",
       "      <th></th>\n",
       "      <th></th>\n",
       "      <th></th>\n",
       "      <th></th>\n",
       "      <th></th>\n",
       "      <th></th>\n",
       "      <th></th>\n",
       "      <th></th>\n",
       "    </tr>\n",
       "  </thead>\n",
       "  <tbody>\n",
       "    <tr>\n",
       "      <th>1</th>\n",
       "      <td>Shubhangi Sinha</td>\n",
       "      <td>Urban</td>\n",
       "      <td>Rajasthan</td>\n",
       "      <td>20</td>\n",
       "      <td>Pad</td>\n",
       "      <td>Non degradable</td>\n",
       "      <td>Wrapping in paper/ Polythene</td>\n",
       "      <td>Swach Bharat van(Swach Bharat van)</td>\n",
       "      <td>3</td>\n",
       "      <td>Yes</td>\n",
       "      <td>3</td>\n",
       "      <td>30</td>\n",
       "    </tr>\n",
       "    <tr>\n",
       "      <th>2</th>\n",
       "      <td>Shivangi</td>\n",
       "      <td>Rural</td>\n",
       "      <td>Uttar Pradesh</td>\n",
       "      <td>18</td>\n",
       "      <td>Pad</td>\n",
       "      <td>Non degradable</td>\n",
       "      <td>Wrapping in paper/ Polythene</td>\n",
       "      <td>Nagar nigam Dustbin</td>\n",
       "      <td>4</td>\n",
       "      <td>Yes</td>\n",
       "      <td>4</td>\n",
       "      <td>28</td>\n",
       "    </tr>\n",
       "    <tr>\n",
       "      <th>3</th>\n",
       "      <td>Jaya</td>\n",
       "      <td>Urban</td>\n",
       "      <td>Rajasthan</td>\n",
       "      <td>18</td>\n",
       "      <td>Pad</td>\n",
       "      <td>Don't Know</td>\n",
       "      <td>Wrapping in paper/ Polythene</td>\n",
       "      <td>Swach Bharat van(Swach Bharat van)</td>\n",
       "      <td>5</td>\n",
       "      <td>Yes</td>\n",
       "      <td>6</td>\n",
       "      <td>35</td>\n",
       "    </tr>\n",
       "    <tr>\n",
       "      <th>4</th>\n",
       "      <td>Pragati sengar</td>\n",
       "      <td>Rural</td>\n",
       "      <td>Uttar Pradesh</td>\n",
       "      <td>18</td>\n",
       "      <td>Pad</td>\n",
       "      <td>Don't Know</td>\n",
       "      <td>Wrapping in paper/ Polythene</td>\n",
       "      <td>Nagar nigam Dustbin</td>\n",
       "      <td>2</td>\n",
       "      <td>Yes</td>\n",
       "      <td>4</td>\n",
       "      <td>31</td>\n",
       "    </tr>\n",
       "    <tr>\n",
       "      <th>5</th>\n",
       "      <td>Sneha</td>\n",
       "      <td>Semi Urban</td>\n",
       "      <td>Rajasthan</td>\n",
       "      <td>19</td>\n",
       "      <td>Pad</td>\n",
       "      <td>Don't Know</td>\n",
       "      <td>Wrapping in paper/ Polythene</td>\n",
       "      <td>Nagar nigam Dustbin</td>\n",
       "      <td>5</td>\n",
       "      <td>Yes</td>\n",
       "      <td>5</td>\n",
       "      <td>27</td>\n",
       "    </tr>\n",
       "    <tr>\n",
       "      <th>...</th>\n",
       "      <td>...</td>\n",
       "      <td>...</td>\n",
       "      <td>...</td>\n",
       "      <td>...</td>\n",
       "      <td>...</td>\n",
       "      <td>...</td>\n",
       "      <td>...</td>\n",
       "      <td>...</td>\n",
       "      <td>...</td>\n",
       "      <td>...</td>\n",
       "      <td>...</td>\n",
       "      <td>...</td>\n",
       "    </tr>\n",
       "    <tr>\n",
       "      <th>215</th>\n",
       "      <td>Nikita Toshwal</td>\n",
       "      <td>Urban</td>\n",
       "      <td>Rajasthan</td>\n",
       "      <td>19</td>\n",
       "      <td>Pad</td>\n",
       "      <td>Don't Know</td>\n",
       "      <td>Wrapping in paper/ Polythene</td>\n",
       "      <td>Nagar nigam Dustbin</td>\n",
       "      <td>2</td>\n",
       "      <td>No</td>\n",
       "      <td>6</td>\n",
       "      <td>45</td>\n",
       "    </tr>\n",
       "    <tr>\n",
       "      <th>216</th>\n",
       "      <td>Laxmi soyal</td>\n",
       "      <td>Semi Urban</td>\n",
       "      <td>Rajsthan</td>\n",
       "      <td>20</td>\n",
       "      <td>Pad</td>\n",
       "      <td>Don't Know</td>\n",
       "      <td>Wrapping in paper/ Polythene</td>\n",
       "      <td>Swach Bharat van(Swach Bharat van)</td>\n",
       "      <td>3</td>\n",
       "      <td>Yes</td>\n",
       "      <td>5</td>\n",
       "      <td>30</td>\n",
       "    </tr>\n",
       "    <tr>\n",
       "      <th>217</th>\n",
       "      <td>Pooja sain</td>\n",
       "      <td>Urban</td>\n",
       "      <td>Rajasthan</td>\n",
       "      <td>23</td>\n",
       "      <td>Pad</td>\n",
       "      <td>Don't Know</td>\n",
       "      <td>Wrapping in paper/ Polythene</td>\n",
       "      <td>Swach Bharat van(Swach Bharat van)</td>\n",
       "      <td>1</td>\n",
       "      <td>No</td>\n",
       "      <td>4</td>\n",
       "      <td>30</td>\n",
       "    </tr>\n",
       "    <tr>\n",
       "      <th>218</th>\n",
       "      <td>Akshima Rawat</td>\n",
       "      <td>Urban</td>\n",
       "      <td>Rajasthan</td>\n",
       "      <td>19</td>\n",
       "      <td>Pad</td>\n",
       "      <td>Non degradable</td>\n",
       "      <td>Wrapping in paper/ Polythene</td>\n",
       "      <td>Swach Bharat van(Swach Bharat van)</td>\n",
       "      <td>3</td>\n",
       "      <td>No</td>\n",
       "      <td>6</td>\n",
       "      <td>60</td>\n",
       "    </tr>\n",
       "    <tr>\n",
       "      <th>219</th>\n",
       "      <td>Tanisha</td>\n",
       "      <td>Urban</td>\n",
       "      <td>Rajasthan</td>\n",
       "      <td>18</td>\n",
       "      <td>Pad</td>\n",
       "      <td>Don't Know</td>\n",
       "      <td>Wrapping in paper/ Polythene</td>\n",
       "      <td>Swach Bharat van(Swach Bharat van)</td>\n",
       "      <td>4</td>\n",
       "      <td>Yes</td>\n",
       "      <td>7</td>\n",
       "      <td>28</td>\n",
       "    </tr>\n",
       "  </tbody>\n",
       "</table>\n",
       "<p>219 rows × 12 columns</p>\n",
       "</div>"
      ],
      "text/plain": [
       "                  Name You lives in           State  Age pad_or_else  \\\n",
       "Index                                                                  \n",
       "1      Shubhangi Sinha         Urban      Rajasthan   20         Pad   \n",
       "2             Shivangi         Rural  Uttar Pradesh   18         Pad   \n",
       "3                 Jaya         Urban      Rajasthan   18         Pad   \n",
       "4       Pragati sengar         Rural  Uttar Pradesh   18         Pad   \n",
       "5               Sneha     Semi Urban     Rajasthan    19         Pad   \n",
       "...                ...           ...            ...  ...         ...   \n",
       "215     Nikita Toshwal         Urban      Rajasthan   19         Pad   \n",
       "216        Laxmi soyal    Semi Urban       Rajsthan   20         Pad   \n",
       "217         Pooja sain         Urban     Rajasthan    23         Pad   \n",
       "218      Akshima Rawat         Urban      Rajasthan   19         Pad   \n",
       "219           Tanisha          Urban     Rajasthan    18         Pad   \n",
       "\n",
       "          type_of_pad               way_of_disposal  \\\n",
       "Index                                                 \n",
       "1      Non degradable  Wrapping in paper/ Polythene   \n",
       "2      Non degradable  Wrapping in paper/ Polythene   \n",
       "3          Don't Know  Wrapping in paper/ Polythene   \n",
       "4          Don't Know  Wrapping in paper/ Polythene   \n",
       "5          Don't Know  Wrapping in paper/ Polythene   \n",
       "...               ...                           ...   \n",
       "215        Don't Know  Wrapping in paper/ Polythene   \n",
       "216        Don't Know  Wrapping in paper/ Polythene   \n",
       "217        Don't Know  Wrapping in paper/ Polythene   \n",
       "218    Non degradable  Wrapping in paper/ Polythene   \n",
       "219        Don't Know  Wrapping in paper/ Polythene   \n",
       "\n",
       "                          dustbin_dispose  pads_per_day  \\\n",
       "Index                                                     \n",
       "1      Swach Bharat van(Swach Bharat van)             3   \n",
       "2                     Nagar nigam Dustbin             4   \n",
       "3      Swach Bharat van(Swach Bharat van)             5   \n",
       "4                     Nagar nigam Dustbin             2   \n",
       "5                     Nagar nigam Dustbin             5   \n",
       "...                                   ...           ...   \n",
       "215                   Nagar nigam Dustbin             2   \n",
       "216    Swach Bharat van(Swach Bharat van)             3   \n",
       "217    Swach Bharat van(Swach Bharat van)             1   \n",
       "218    Swach Bharat van(Swach Bharat van)             3   \n",
       "219    Swach Bharat van(Swach Bharat van)             4   \n",
       "\n",
       "      is_menstrual_cycle_regular  period_days  days_between_period  \n",
       "Index                                                               \n",
       "1                            Yes            3                   30  \n",
       "2                            Yes            4                   28  \n",
       "3                            Yes            6                   35  \n",
       "4                            Yes            4                   31  \n",
       "5                            Yes            5                   27  \n",
       "...                          ...          ...                  ...  \n",
       "215                           No            6                   45  \n",
       "216                          Yes            5                   30  \n",
       "217                           No            4                   30  \n",
       "218                           No            6                   60  \n",
       "219                          Yes            7                   28  \n",
       "\n",
       "[219 rows x 12 columns]"
      ]
     },
     "execution_count": 193,
     "metadata": {},
     "output_type": "execute_result"
    }
   ],
   "source": [
    "df"
   ]
  },
  {
   "cell_type": "code",
   "execution_count": 194,
   "metadata": {},
   "outputs": [
    {
     "data": {
      "text/plain": [
       "(219, 12)"
      ]
     },
     "execution_count": 194,
     "metadata": {},
     "output_type": "execute_result"
    }
   ],
   "source": [
    "df.shape"
   ]
  },
  {
   "cell_type": "code",
   "execution_count": 195,
   "metadata": {},
   "outputs": [
    {
     "name": "stdout",
     "output_type": "stream",
     "text": [
      "Index\n",
      "1      33\n",
      "2      32\n",
      "3      41\n",
      "4      35\n",
      "5      32\n",
      "       ..\n",
      "215    51\n",
      "216    35\n",
      "217    34\n",
      "218    66\n",
      "219    35\n",
      "Length: 219, dtype: int64\n",
      "Index\n",
      "1      11.06\n",
      "2      11.41\n",
      "3       8.90\n",
      "4      10.43\n",
      "5      11.41\n",
      "       ...  \n",
      "215     7.16\n",
      "216    10.43\n",
      "217    10.74\n",
      "218     5.53\n",
      "219    10.43\n",
      "Length: 219, dtype: float64\n"
     ]
    }
   ],
   "source": [
    "#No of periods in year \n",
    "totalcylce=df[\"days_between_period\"]+df[\"period_days\"] #Total days in Menstrual  cycle\n",
    "print(totalcylce)\n",
    "period_per_year=365/totalcylce \n",
    "period_per_year=round(period_per_year,2)#No of periods in year\n",
    "print(period_per_year)"
   ]
  },
  {
   "cell_type": "code",
   "execution_count": 196,
   "metadata": {},
   "outputs": [
    {
     "name": "stdout",
     "output_type": "stream",
     "text": [
      "Index\n",
      "1       9\n",
      "2      16\n",
      "3      30\n",
      "4       8\n",
      "5      25\n",
      "       ..\n",
      "215    12\n",
      "216    15\n",
      "217     4\n",
      "218    18\n",
      "219    28\n",
      "Length: 219, dtype: int64\n"
     ]
    }
   ],
   "source": [
    "#no of pads used  in a period\n",
    "pads_per_period=df[\"period_days\"]*df[\"pads_per_day\"]\n",
    "print(pads_per_period)"
   ]
  },
  {
   "cell_type": "code",
   "execution_count": 197,
   "metadata": {},
   "outputs": [
    {
     "name": "stdout",
     "output_type": "stream",
     "text": [
      "Index\n",
      "1       99.54\n",
      "2      182.56\n",
      "3      267.00\n",
      "4       83.44\n",
      "5      285.25\n",
      "        ...  \n",
      "215     85.92\n",
      "216    156.45\n",
      "217     42.96\n",
      "218     99.54\n",
      "219    292.04\n",
      "Length: 219, dtype: float64\n"
     ]
    }
   ],
   "source": [
    "#pads in used in a year\n",
    "pads_per_year=pads_per_period*period_per_year\n",
    "print(pads_per_year)"
   ]
  },
  {
   "cell_type": "code",
   "execution_count": 166,
   "metadata": {},
   "outputs": [
    {
     "name": "stdout",
     "output_type": "stream",
     "text": [
      "Mean calculated = 165.51\n"
     ]
    }
   ],
   "source": [
    "mean=round(statistics.mean(pads_per_year),2)\n",
    "\n",
    "print(\"Mean calculated =\",mean)"
   ]
  },
  {
   "cell_type": "code",
   "execution_count": 167,
   "metadata": {},
   "outputs": [
    {
     "name": "stdout",
     "output_type": "stream",
     "text": [
      "Standard deviation calculated= 88.68\n"
     ]
    }
   ],
   "source": [
    "standard_deviation=round(statistics.stdev(pads_per_year),2)\n",
    "print(\"Standard deviation calculated=\",standard_deviation)\n",
    "sigma=standard_deviation"
   ]
  },
  {
   "cell_type": "code",
   "execution_count": 168,
   "metadata": {},
   "outputs": [
    {
     "name": "stdout",
     "output_type": "stream",
     "text": [
      "z =  3.59\n",
      "hypothesis rejected\n"
     ]
    }
   ],
   "source": [
    "u=144\n",
    "x_bar=mean\n",
    "n=219\n",
    "alpha=0.05\n",
    "z=round((x_bar-u)/(sigma/math.sqrt(n)),3)\n",
    "print(\"z = \",z)\n",
    "z2=1.960  #z alpha by 2\n",
    "if z>z2:\n",
    "    print(\"hypothesis rejected\")\n",
    "else:\n",
    "    print(\"hypothesis accepted \")"
   ]
  },
  {
   "cell_type": "code",
   "execution_count": 170,
   "metadata": {},
   "outputs": [
    {
     "data": {
      "image/png": "[encoded data removed]",
      "text/plain": [
       "<Figure size 432x288 with 1 Axes>"
      ]
     },
     "metadata": {
      "needs_background": "light"
     },
     "output_type": "display_data"
    }
   ],
   "source": [
    "\n",
    "temp=df[\"days_between_period\"].value_counts()\n",
    "\n",
    "temp.sort_values(axis=0,ascending=True, inplace=True)\n",
    "\n",
    "x=temp.plot.bar(xlabel=\"days_between_period\",ylabel=\"Frequency\",title=\" days_between_period vs Frequency \")\n"
   ]
  },
  {
   "cell_type": "code",
   "execution_count": 187,
   "metadata": {},
   "outputs": [
    {
     "data": {
      "image/png": "[encoded data removed]",
      "text/plain": [
       "<Figure size 720x432 with 1 Axes>"
      ]
     },
     "metadata": {
      "needs_background": "light"
     },
     "output_type": "display_data"
    }
   ],
   "source": [
    "plt.figure(figsize=(10,6))\n",
    "plt.hist(pads_per_year)\n",
    "plt.xlabel(\"pads used in a year\")\n",
    "plt.ylabel(\"frequency\")\n",
    "plt.title(\"pads used in a year vs frequency\")\n",
    "plt.show()\n",
    "\n"
   ]
  },
  {
   "cell_type": "code",
   "execution_count": 172,
   "metadata": {},
   "outputs": [
    {
     "name": "stdout",
     "output_type": "stream",
     "text": [
      "Index\n",
      "1       597.24\n",
      "2      1095.36\n",
      "3      1602.00\n",
      "4       500.64\n",
      "5      1711.50\n",
      "        ...   \n",
      "215     515.52\n",
      "216     938.70\n",
      "217     257.76\n",
      "218     597.24\n",
      "219    1752.24\n",
      "Length: 219, dtype: float64\n",
      "3185.2799999999997\n"
     ]
    }
   ],
   "source": [
    "weight_of_pad=6 #in gm\n",
    "pad_weight_in_year=pads_per_year*6\n",
    "print(pad_weight_in_year)\n",
    "print(max(pad_weight_in_year))\n",
    "df['pad_weight_in_year(ingrm)'] = pad_weight_in_year "
   ]
  },
  {
   "cell_type": "code",
   "execution_count": 173,
   "metadata": {},
   "outputs": [
    {
     "data": {
      "image/png": "[encoded data removed]",
      "text/plain": [
       "<Figure size 432x288 with 1 Axes>"
      ]
     },
     "metadata": {
      "needs_background": "light"
     },
     "output_type": "display_data"
    }
   ],
   "source": [
    "x=df[\"pad_weight_in_year(ingrm)\"].plot.kde(xlabel=\"weight in grms\",ylabel=\"probibilty\")\n"
   ]
  },
  {
   "cell_type": "code",
   "execution_count": 174,
   "metadata": {},
   "outputs": [
    {
     "name": "stdout",
     "output_type": "stream",
     "text": [
      "type_of_pad\n",
      "Don't Know        123\n",
      "Bio degradable     49\n",
      "Non degradable     47\n",
      "dtype: int64\n"
     ]
    },
    {
     "data": {
      "image/png": "[encoded data removed]",
      "text/plain": [
       "<Figure size 432x288 with 1 Axes>"
      ]
     },
     "metadata": {},
     "output_type": "display_data"
    }
   ],
   "source": [
    "p=df.value_counts(df['type_of_pad'])\n",
    "print(p)\n",
    "li=[\"Don't Know\",\"Bio degradable\",\"Non degradable\"]\n",
    "import matplotlib.pyplot as plt\n",
    "import numpy as np\n",
    "\n",
    "\n",
    "\n",
    "plt.pie(p,labels=li)\n",
    "plt.show() \n"
   ]
  },
  {
   "cell_type": "code",
   "execution_count": 185,
   "metadata": {},
   "outputs": [
    {
     "data": {
      "image/png": "[encoded data removed]",
      "text/plain": [
       "<Figure size 432x288 with 1 Axes>"
      ]
     },
     "metadata": {},
     "output_type": "display_data"
    }
   ],
   "source": [
    "p=df.value_counts(df[\"way_of_disposal\"])\n",
    "\n",
    "li=[\"Wrapping in paper/ Polythene\",\"Pad Disposal Machine\"]\n",
    "import matplotlib.pyplot as plt\n",
    "import numpy as np\n",
    "\n",
    "\n",
    "\n",
    "plt.pie(p,labels=li)\n",
    "plt.show() "
   ]
  },
  {
   "cell_type": "code",
   "execution_count": 180,
   "metadata": {},
   "outputs": [
    {
     "name": "stdout",
     "output_type": "stream",
     "text": [
      "dustbin_dispose\n",
      "Nagar nigam Dustbin                   102\n",
      "Swach Bharat van(Swach Bharat van)     97\n",
      "other                                  20\n",
      "dtype: int64\n"
     ]
    },
    {
     "data": {
      "image/png": "[encoded data removed]",
      "text/plain": [
       "<Figure size 432x288 with 1 Axes>"
      ]
     },
     "metadata": {},
     "output_type": "display_data"
    }
   ],
   "source": [
    "p=df.value_counts(df[\"dustbin_dispose\"])\n",
    "print(p)\n",
    "li=[\"Nagar nigam Dustbin\",\"Swach Bharat van\",\"other\"]\n",
    "import matplotlib.pyplot as plt\n",
    "import numpy as np\n",
    "\n",
    "\n",
    "\n",
    "plt.pie(p,labels=li)\n",
    "plt.show() "
   ]
  }
 ],
 "metadata": {
  "kernelspec": {
   "display_name": "Python 3",
   "language": "python",
   "name": "python3"
  },
  "language_info": {
   "codemirror_mode": {
    "name": "ipython",
    "version": 3
   },
   "file_extension": ".py",
   "mimetype": "text/x-python",
   "name": "python",
   "nbconvert_exporter": "python",
   "pygments_lexer": "ipython3",
   "version": "3.8.5"
  }
 },
 "nbformat": 4,
 "nbformat_minor": 4
}
